{
  "nbformat": 4,
  "nbformat_minor": 0,
  "metadata": {
    "colab": {
      "provenance": [],
      "include_colab_link": true
    },
    "kernelspec": {
      "name": "python3",
      "display_name": "Python 3"
    },
    "language_info": {
      "name": "python"
    }
  },
  "cells": [
    {
      "cell_type": "markdown",
      "metadata": {
        "id": "view-in-github",
        "colab_type": "text"
      },
      "source": [
        "<a href=\"https://colab.research.google.com/github/itsmenira/projetoalura/blob/main/Cidadania_Italiana_Imers%C3%A3o_IA_Alura_%2B_Google_Gemini.ipynb\" target=\"_parent\"><img src=\"https://colab.research.google.com/assets/colab-badge.svg\" alt=\"Open In Colab\"/></a>"
      ]
    },
    {
      "cell_type": "code",
      "source": [
        "%pip -q install google-genai"
      ],
      "metadata": {
        "id": "UCCbECexLk_h"
      },
      "execution_count": null,
      "outputs": []
    },
    {
      "cell_type": "code",
      "source": [
        "# Configura a API Key do Google Gemini\n",
        "\n",
        "import os\n",
        "from google.colab import userdata\n",
        "\n",
        "os.environ[\"GOOGLE_API_KEY\"] = userdata.get('GOOGLE_API_KEY')"
      ],
      "metadata": {
        "id": "NfCqHo1tLk8P"
      },
      "execution_count": null,
      "outputs": []
    },
    {
      "cell_type": "code",
      "source": [
        "# Configura o cliente da SDK do Gemini\n",
        "\n",
        "from google import genai\n",
        "\n",
        "client = genai.Client()\n",
        "\n",
        "MODEL_ID = \"gemini-2.0-flash\""
      ],
      "metadata": {
        "id": "bV4w0H5TLk5g"
      },
      "execution_count": null,
      "outputs": []
    },
    {
      "cell_type": "code",
      "source": [
        "# Pergunta ao Gemini uma informação mais recente que seu conhecimento\n",
        "\n",
        "from IPython.display import HTML, Markdown\n",
        "\n",
        "# Perguntar pro modelo quando é a próxima imersão de IA ###############################################\n",
        "resposta = client.models.generate_content(\n",
        "    model=MODEL_ID,\n",
        "    contents='Quando é a próxima Imersão IA com Google Gemini da Alura?',\n",
        ")\n",
        "\n",
        "# Exibe a resposta na tela\n",
        "display(Markdown(f\"Resposta:\\n {resposta.text}\"))"
      ],
      "metadata": {
        "colab": {
          "base_uri": "https://localhost:8080/",
          "height": 180
        },
        "id": "Y9cBAz02xZt9",
        "outputId": "fdb4317f-97b1-4c84-ca65-3ba169c96ff4"
      },
      "execution_count": null,
      "outputs": [
        {
          "output_type": "display_data",
          "data": {
            "text/plain": [
              "<IPython.core.display.Markdown object>"
            ],
            "text/markdown": "Resposta:\n A Alura não tem uma data fixa para a Imersão IA com Google Gemini. A melhor forma de saber quando a próxima edição acontecerá é:\n\n*   **Acompanhar as redes sociais da Alura:** Fique de olho no Instagram, LinkedIn, Twitter e Facebook da Alura.\n*   **Assinar a newsletter da Alura:** Assim você recebe novidades e anúncios de eventos diretamente no seu e-mail.\n*   **Visitar a página de Imersões da Alura:** Consulte periodicamente a página de Imersões no site da Alura para verificar se há alguma edição futura programada.\n*   **Participar da comunidade da Alura:** Fique de olho nos fóruns e grupos da Alura, onde os alunos e a equipe costumam compartilhar informações sobre eventos e cursos.\n\nDessa forma, você não perderá a próxima oportunidade de participar da Imersão IA com Google Gemini!"
          },
          "metadata": {}
        }
      ]
    },
    {
      "cell_type": "code",
      "source": [
        "# Pergunta ao Gemini uma informação utilizando a busca do Google como contexto\n",
        "\n",
        "response = client.models.generate_content(\n",
        "    model=MODEL_ID,\n",
        "    contents='Quando é a próxima Imersão IA com Google Gemini da Alura?',\n",
        "    config={\"tools\": [{\"google_search\": {}}]}\n",
        ")\n",
        "\n",
        "# Exibe a resposta na tela\n",
        "display(Markdown(f\"Resposta:\\n {response.text}\"))"
      ],
      "metadata": {
        "colab": {
          "base_uri": "https://localhost:8080/",
          "height": 64
        },
        "id": "lc2JPA92xbnp",
        "outputId": "410b28e5-e585-4666-e70f-bcda5450665b"
      },
      "execution_count": null,
      "outputs": [
        {
          "output_type": "display_data",
          "data": {
            "text/plain": [
              "<IPython.core.display.Markdown object>"
            ],
            "text/markdown": "Resposta:\n A próxima Imersão IA com Google Gemini da Alura ocorreu entre os dias 12 e 16 de maio de 2025. As inscrições para esta edição, que era gratuita e online, estiveram abertas até o dia 11 de maio. A Alura, em parceria com o Google, ofereceu 180 mil vagas para esta imersão.\n"
          },
          "metadata": {}
        }
      ]
    },
    {
      "cell_type": "code",
      "source": [
        "# Exibe a busca\n",
        "print(f\"Busca realizada: {response.candidates[0].grounding_metadata.web_search_queries}\")\n",
        "# Exibe as URLs nas quais ele se baseou\n",
        "print(f\"Páginas utilizadas na resposta: {', '.join([site.web.title for site in response.candidates[0].grounding_metadata.grounding_chunks])}\")\n",
        "print()\n",
        "display(HTML(response.candidates[0].grounding_metadata.search_entry_point.rendered_content))"
      ],
      "metadata": {
        "colab": {
          "base_uri": "https://localhost:8080/",
          "height": 117
        },
        "id": "6Cg0KNJGMgC5",
        "outputId": "75dc3eb4-ae6e-4b6a-9043-33ca36d94c24"
      },
      "execution_count": null,
      "outputs": [
        {
          "output_type": "stream",
          "name": "stdout",
          "text": [
            "Busca realizada: ['próxima Imersão IA com Google Gemini da Alura', 'Alura Imersão IA Google Gemini datas']\n",
            "Páginas utilizadas na resposta: convergenciadigital.com.br, tecmundo.com.br, eucapacito.com.br\n",
            "\n"
          ]
        },
        {
          "output_type": "display_data",
          "data": {
            "text/plain": [
              "<IPython.core.display.HTML object>"
            ],
            "text/html": [
              "<style>\n",
              ".container {\n",
              "  align-items: center;\n",
              "  border-radius: 8px;\n",
              "  display: flex;\n",
              "  font-family: Google Sans, Roboto, sans-serif;\n",
              "  font-size: 14px;\n",
              "  line-height: 20px;\n",
              "  padding: 8px 12px;\n",
              "}\n",
              ".chip {\n",
              "  display: inline-block;\n",
              "  border: solid 1px;\n",
              "  border-radius: 16px;\n",
              "  min-width: 14px;\n",
              "  padding: 5px 16px;\n",
              "  text-align: center;\n",
              "  user-select: none;\n",
              "  margin: 0 8px;\n",
              "  -webkit-tap-highlight-color: transparent;\n",
              "}\n",
              ".carousel {\n",
              "  overflow: auto;\n",
              "  scrollbar-width: none;\n",
              "  white-space: nowrap;\n",
              "  margin-right: -12px;\n",
              "}\n",
              ".headline {\n",
              "  display: flex;\n",
              "  margin-right: 4px;\n",
              "}\n",
              ".gradient-container {\n",
              "  position: relative;\n",
              "}\n",
              ".gradient {\n",
              "  position: absolute;\n",
              "  transform: translate(3px, -9px);\n",
              "  height: 36px;\n",
              "  width: 9px;\n",
              "}\n",
              "@media (prefers-color-scheme: light) {\n",
              "  .container {\n",
              "    background-color: #fafafa;\n",
              "    box-shadow: 0 0 0 1px #0000000f;\n",
              "  }\n",
              "  .headline-label {\n",
              "    color: #1f1f1f;\n",
              "  }\n",
              "  .chip {\n",
              "    background-color: #ffffff;\n",
              "    border-color: #d2d2d2;\n",
              "    color: #5e5e5e;\n",
              "    text-decoration: none;\n",
              "  }\n",
              "  .chip:hover {\n",
              "    background-color: #f2f2f2;\n",
              "  }\n",
              "  .chip:focus {\n",
              "    background-color: #f2f2f2;\n",
              "  }\n",
              "  .chip:active {\n",
              "    background-color: #d8d8d8;\n",
              "    border-color: #b6b6b6;\n",
              "  }\n",
              "  .logo-dark {\n",
              "    display: none;\n",
              "  }\n",
              "  .gradient {\n",
              "    background: linear-gradient(90deg, #fafafa 15%, #fafafa00 100%);\n",
              "  }\n",
              "}\n",
              "@media (prefers-color-scheme: dark) {\n",
              "  .container {\n",
              "    background-color: #1f1f1f;\n",
              "    box-shadow: 0 0 0 1px #ffffff26;\n",
              "  }\n",
              "  .headline-label {\n",
              "    color: #fff;\n",
              "  }\n",
              "  .chip {\n",
              "    background-color: #2c2c2c;\n",
              "    border-color: #3c4043;\n",
              "    color: #fff;\n",
              "    text-decoration: none;\n",
              "  }\n",
              "  .chip:hover {\n",
              "    background-color: #353536;\n",
              "  }\n",
              "  .chip:focus {\n",
              "    background-color: #353536;\n",
              "  }\n",
              "  .chip:active {\n",
              "    background-color: #464849;\n",
              "    border-color: #53575b;\n",
              "  }\n",
              "  .logo-light {\n",
              "    display: none;\n",
              "  }\n",
              "  .gradient {\n",
              "    background: linear-gradient(90deg, #1f1f1f 15%, #1f1f1f00 100%);\n",
              "  }\n",
              "}\n",
              "</style>\n",
              "<div class=\"container\">\n",
              "  <div class=\"headline\">\n",
              "    <svg class=\"logo-light\" width=\"18\" height=\"18\" viewBox=\"9 9 35 35\" fill=\"none\" xmlns=\"http://www.w3.org/2000/svg\">\n",
              "      <path fill-rule=\"evenodd\" clip-rule=\"evenodd\" d=\"M42.8622 27.0064C42.8622 25.7839 42.7525 24.6084 42.5487 23.4799H26.3109V30.1568H35.5897C35.1821 32.3041 33.9596 34.1222 32.1258 35.3448V39.6864H37.7213C40.9814 36.677 42.8622 32.2571 42.8622 27.0064V27.0064Z\" fill=\"#4285F4\"/>\n",
              "      <path fill-rule=\"evenodd\" clip-rule=\"evenodd\" d=\"M26.3109 43.8555C30.9659 43.8555 34.8687 42.3195 37.7213 39.6863L32.1258 35.3447C30.5898 36.3792 28.6306 37.0061 26.3109 37.0061C21.8282 37.0061 18.0195 33.9811 16.6559 29.906H10.9194V34.3573C13.7563 39.9841 19.5712 43.8555 26.3109 43.8555V43.8555Z\" fill=\"#34A853\"/>\n",
              "      <path fill-rule=\"evenodd\" clip-rule=\"evenodd\" d=\"M16.6559 29.8904C16.3111 28.8559 16.1074 27.7588 16.1074 26.6146C16.1074 25.4704 16.3111 24.3733 16.6559 23.3388V18.8875H10.9194C9.74388 21.2072 9.06992 23.8247 9.06992 26.6146C9.06992 29.4045 9.74388 32.022 10.9194 34.3417L15.3864 30.8621L16.6559 29.8904V29.8904Z\" fill=\"#FBBC05\"/>\n",
              "      <path fill-rule=\"evenodd\" clip-rule=\"evenodd\" d=\"M26.3109 16.2386C28.85 16.2386 31.107 17.1164 32.9095 18.8091L37.8466 13.8719C34.853 11.082 30.9659 9.3736 26.3109 9.3736C19.5712 9.3736 13.7563 13.245 10.9194 18.8875L16.6559 23.3388C18.0195 19.2636 21.8282 16.2386 26.3109 16.2386V16.2386Z\" fill=\"#EA4335\"/>\n",
              "    </svg>\n",
              "    <svg class=\"logo-dark\" width=\"18\" height=\"18\" viewBox=\"0 0 48 48\" xmlns=\"http://www.w3.org/2000/svg\">\n",
              "      <circle cx=\"24\" cy=\"23\" fill=\"#FFF\" r=\"22\"/>\n",
              "      <path d=\"M33.76 34.26c2.75-2.56 4.49-6.37 4.49-11.26 0-.89-.08-1.84-.29-3H24.01v5.99h8.03c-.4 2.02-1.5 3.56-3.07 4.56v.75l3.91 2.97h.88z\" fill=\"#4285F4\"/>\n",
              "      <path d=\"M15.58 25.77A8.845 8.845 0 0 0 24 31.86c1.92 0 3.62-.46 4.97-1.31l4.79 3.71C31.14 36.7 27.65 38 24 38c-5.93 0-11.01-3.4-13.45-8.36l.17-1.01 4.06-2.85h.8z\" fill=\"#34A853\"/>\n",
              "      <path d=\"M15.59 20.21a8.864 8.864 0 0 0 0 5.58l-5.03 3.86c-.98-2-1.53-4.25-1.53-6.64 0-2.39.55-4.64 1.53-6.64l1-.22 3.81 2.98.22 1.08z\" fill=\"#FBBC05\"/>\n",
              "      <path d=\"M24 14.14c2.11 0 4.02.75 5.52 1.98l4.36-4.36C31.22 9.43 27.81 8 24 8c-5.93 0-11.01 3.4-13.45 8.36l5.03 3.85A8.86 8.86 0 0 1 24 14.14z\" fill=\"#EA4335\"/>\n",
              "    </svg>\n",
              "    <div class=\"gradient-container\"><div class=\"gradient\"></div></div>\n",
              "  </div>\n",
              "  <div class=\"carousel\">\n",
              "    <a class=\"chip\" href=\"https://vertexaisearch.cloud.google.com/grounding-api-redirect/AbF9wXFdW5YiqtiJaTYsDKviXuMPUZrK6k4AcZN7cUAIpKZ3ct5wUvEl_FjHgPtC6v-NDFj2P_g1AzWQbrCoZdslxNf9BWtzMhq6PSAxRLVEBhwY-yHSen1ibgvPQodn3ruz4_qNtnP_yadMg4i9JJ8X0C4bBr8eIKDUw24mXLd58LNAONpFRJVsJltZio9DXJnTESrnd-lJwzlWg9zpIBElN5ALcC9_GrAhUTg4XcEp\">Alura Imersão IA Google Gemini datas</a>\n",
              "    <a class=\"chip\" href=\"https://vertexaisearch.cloud.google.com/grounding-api-redirect/AbF9wXGec58DIEWgWYLy_ZAFWDZdgl80eYodMqdvBilSqwRV3CU_Jv8p8LRhKcNYiUeqTmas00QVNsloJV9dptq6tQIN3_fT-UvRkkArfGF-frV7ovTdErUHGP1BVfKTpsEEN8fJugPMbLsHR8M1f6M7W3HTugknszhnJhOX88DsFPjgW6hj7uhuUk7tFvnv7ow6hW9EF43oe_jZp99fVzlQ94L6t1ENenB6C1AcI4b5pP8mkYMT1BxMFMCQ-etb\">próxima Imersão IA com Google Gemini da Alura</a>\n",
              "  </div>\n",
              "</div>\n"
            ]
          },
          "metadata": {}
        }
      ]
    },
    {
      "cell_type": "code",
      "source": [
        "# Instalar Framework de agentes do Google ################################################\n",
        "!pip install -q google-adk"
      ],
      "metadata": {
        "id": "a1eRPalxEnj7",
        "colab": {
          "base_uri": "https://localhost:8080/"
        },
        "outputId": "79682e0f-bd18-4164-ca3f-b3db993968b1"
      },
      "execution_count": null,
      "outputs": [
        {
          "output_type": "stream",
          "name": "stdout",
          "text": [
            "\u001b[?25l   \u001b[90m━━━━━━━━━━━━━━━━━━━━━━━━━━━━━━━━━━━━━━━━\u001b[0m \u001b[32m0.0/1.2 MB\u001b[0m \u001b[31m?\u001b[0m eta \u001b[36m-:--:--\u001b[0m\r\u001b[2K   \u001b[91m━━━━━━━━━━━━━━━━━━━━━━━━━━━━━━━━━━━━━━━\u001b[0m\u001b[91m╸\u001b[0m \u001b[32m1.2/1.2 MB\u001b[0m \u001b[31m39.3 MB/s\u001b[0m eta \u001b[36m0:00:01\u001b[0m\r\u001b[2K   \u001b[90m━━━━━━━━━━━━━━━━━━━━━━━━━━━━━━━━━━━━━━━━\u001b[0m \u001b[32m1.2/1.2 MB\u001b[0m \u001b[31m27.2 MB/s\u001b[0m eta \u001b[36m0:00:00\u001b[0m\n",
            "\u001b[?25h\u001b[?25l   \u001b[90m━━━━━━━━━━━━━━━━━━━━━━━━━━━━━━━━━━━━━━━━\u001b[0m \u001b[32m0.0/232.1 kB\u001b[0m \u001b[31m?\u001b[0m eta \u001b[36m-:--:--\u001b[0m\r\u001b[2K   \u001b[90m━━━━━━━━━━━━━━━━━━━━━━━━━━━━━━━━━━━━━━━━\u001b[0m \u001b[32m232.1/232.1 kB\u001b[0m \u001b[31m21.4 MB/s\u001b[0m eta \u001b[36m0:00:00\u001b[0m\n",
            "\u001b[?25h\u001b[?25l   \u001b[90m━━━━━━━━━━━━━━━━━━━━━━━━━━━━━━━━━━━━━━━━\u001b[0m \u001b[32m0.0/95.2 kB\u001b[0m \u001b[31m?\u001b[0m eta \u001b[36m-:--:--\u001b[0m\r\u001b[2K   \u001b[90m━━━━━━━━━━━━━━━━━━━━━━━━━━━━━━━━━━━━━━━━\u001b[0m \u001b[32m95.2/95.2 kB\u001b[0m \u001b[31m8.3 MB/s\u001b[0m eta \u001b[36m0:00:00\u001b[0m\n",
            "\u001b[?25h\u001b[?25l   \u001b[90m━━━━━━━━━━━━━━━━━━━━━━━━━━━━━━━━━━━━━━━━\u001b[0m \u001b[32m0.0/217.1 kB\u001b[0m \u001b[31m?\u001b[0m eta \u001b[36m-:--:--\u001b[0m\r\u001b[2K   \u001b[90m━━━━━━━━━━━━━━━━━━━━━━━━━━━━━━━━━━━━━━━━\u001b[0m \u001b[32m217.1/217.1 kB\u001b[0m \u001b[31m19.5 MB/s\u001b[0m eta \u001b[36m0:00:00\u001b[0m\n",
            "\u001b[2K   \u001b[90m━━━━━━━━━━━━━━━━━━━━━━━━━━━━━━━━━━━━━━━━\u001b[0m \u001b[32m334.1/334.1 kB\u001b[0m \u001b[31m29.2 MB/s\u001b[0m eta \u001b[36m0:00:00\u001b[0m\n",
            "\u001b[2K   \u001b[90m━━━━━━━━━━━━━━━━━━━━━━━━━━━━━━━━━━━━━━━━\u001b[0m \u001b[32m125.1/125.1 kB\u001b[0m \u001b[31m11.2 MB/s\u001b[0m eta \u001b[36m0:00:00\u001b[0m\n",
            "\u001b[2K   \u001b[90m━━━━━━━━━━━━━━━━━━━━━━━━━━━━━━━━━━━━━━━━\u001b[0m \u001b[32m65.8/65.8 kB\u001b[0m \u001b[31m6.4 MB/s\u001b[0m eta \u001b[36m0:00:00\u001b[0m\n",
            "\u001b[2K   \u001b[90m━━━━━━━━━━━━━━━━━━━━━━━━━━━━━━━━━━━━━━━━\u001b[0m \u001b[32m119.0/119.0 kB\u001b[0m \u001b[31m11.1 MB/s\u001b[0m eta \u001b[36m0:00:00\u001b[0m\n",
            "\u001b[2K   \u001b[90m━━━━━━━━━━━━━━━━━━━━━━━━━━━━━━━━━━━━━━━━\u001b[0m \u001b[32m194.9/194.9 kB\u001b[0m \u001b[31m18.7 MB/s\u001b[0m eta \u001b[36m0:00:00\u001b[0m\n",
            "\u001b[2K   \u001b[90m━━━━━━━━━━━━━━━━━━━━━━━━━━━━━━━━━━━━━━━━\u001b[0m \u001b[32m62.5/62.5 kB\u001b[0m \u001b[31m5.1 MB/s\u001b[0m eta \u001b[36m0:00:00\u001b[0m\n",
            "\u001b[2K   \u001b[90m━━━━━━━━━━━━━━━━━━━━━━━━━━━━━━━━━━━━━━━━\u001b[0m \u001b[32m103.3/103.3 kB\u001b[0m \u001b[31m10.4 MB/s\u001b[0m eta \u001b[36m0:00:00\u001b[0m\n",
            "\u001b[2K   \u001b[90m━━━━━━━━━━━━━━━━━━━━━━━━━━━━━━━━━━━━━━━━\u001b[0m \u001b[32m44.4/44.4 kB\u001b[0m \u001b[31m3.9 MB/s\u001b[0m eta \u001b[36m0:00:00\u001b[0m\n",
            "\u001b[2K   \u001b[90m━━━━━━━━━━━━━━━━━━━━━━━━━━━━━━━━━━━━━━━━\u001b[0m \u001b[32m72.0/72.0 kB\u001b[0m \u001b[31m7.0 MB/s\u001b[0m eta \u001b[36m0:00:00\u001b[0m\n",
            "\u001b[?25h"
          ]
        }
      ]
    },
    {
      "cell_type": "code",
      "execution_count": null,
      "metadata": {
        "id": "aePV2bdfDeoW"
      },
      "outputs": [],
      "source": [
        "from google.adk.agents import Agent\n",
        "from google.adk.runners import Runner\n",
        "from google.adk.sessions import InMemorySessionService\n",
        "from google.adk.tools import google_search\n",
        "from google.genai import types  # Para criar conteúdos (Content e Part)\n",
        "from datetime import date\n",
        "import textwrap # Para formatar melhor a saída de texto\n",
        "from IPython.display import display, Markdown # Para exibir texto formatado no Colab\n",
        "import requests # Para fazer requisições HTTP\n",
        "import warnings\n",
        "\n",
        "warnings.filterwarnings(\"ignore\")"
      ]
    },
    {
      "cell_type": "code",
      "source": [
        "# Função auxiliar que envia uma mensagem para um agente via Runner e retorna a resposta final\n",
        "def call_agent(agent: Agent, message_text: str) -> str:\n",
        "    # Cria um serviço de sessão em memória\n",
        "    session_service = InMemorySessionService()\n",
        "    # Cria uma nova sessão (você pode personalizar os IDs conforme necessário)\n",
        "    session = session_service.create_session(app_name=agent.name, user_id=\"user1\", session_id=\"session1\")\n",
        "    # Cria um Runner para o agente\n",
        "    runner = Runner(agent=agent, app_name=agent.name, session_service=session_service)\n",
        "    # Cria o conteúdo da mensagem de entrada\n",
        "    content = types.Content(role=\"user\", parts=[types.Part(text=message_text)])\n",
        "\n",
        "    final_response = \"\"\n",
        "    # Itera assincronamente pelos eventos retornados durante a execução do agente\n",
        "    for event in runner.run(user_id=\"user1\", session_id=\"session1\", new_message=content):\n",
        "        if event.is_final_response():\n",
        "          for part in event.content.parts:\n",
        "            if part.text is not None:\n",
        "              final_response += part.text\n",
        "              final_response += \"\\n\"\n",
        "    return final_response"
      ],
      "metadata": {
        "id": "_xP4lWhsS5ko"
      },
      "execution_count": null,
      "outputs": []
    },
    {
      "cell_type": "code",
      "source": [
        "# Função auxiliar para exibir texto formatado em Markdown no Colab\n",
        "def to_markdown(text):\n",
        "  text = text.replace('•', '  *')\n",
        "  return Markdown(textwrap.indent(text, '> ', predicate=lambda _: True))"
      ],
      "metadata": {
        "id": "8dosiodaxfFR"
      },
      "execution_count": null,
      "outputs": []
    },
    {
      "cell_type": "code",
      "source": [
        "##########################################\n",
        "# --- Agente 1: Pesquisador de Dados --- #\n",
        "##########################################\n",
        "def agente_pesquisador(data_de_hoje):\n",
        "\n",
        "    buscador = Agent(\n",
        "        name=\"agente_pesquisador\",\n",
        "        model=\"gemini-2.0-flash\",\n",
        "        instruction=\"\"\"\n",
        "          Você é um assistente de pesquisa. A sua tarefa é usar a ferramenta de busca do google (google_search)\n",
        "          para descobrir se uma pessoa brasileira tem direito à cidadania italiana \\\"ius sanguinis\\\" e os requisitos para obtê-la.\n",
        "          Para isto, você pesquisará os últimos 5 artigos de jornais sobre o tema e as últimas leis aprovadas pelo governo italiano.\n",
        "          Extraia desta pesquisa os requisitos necessários para obter a cidadania e faça uma lista.\n",
        "          Essas notícias e leis devem ser atuais, para investigar se uma pessoa tem direito ou não à cidadania.\n",
        "        \"\"\",\n",
        "        description=\"Agente que busca informações no Google\",\n",
        "        tools=[google_search]\n",
        "    )\n",
        "\n",
        "    entrada_do_agente_pesquisador = f\"Data de hoje: {data_de_hoje}\"\n",
        "\n",
        "    pesquisa = call_agent(buscador, entrada_do_agente_pesquisador)\n",
        "    return pesquisa"
      ],
      "metadata": {
        "id": "o8bqIfi_DyH8"
      },
      "execution_count": null,
      "outputs": []
    },
    {
      "cell_type": "code",
      "source": [
        "################################################\n",
        "# --- Agente 2: Coletor de Dados --- #\n",
        "################################################\n",
        "def agente_coletor(resultado_pesquisa):\n",
        "    coletor = Agent(\n",
        "        name=\"agente_coletor\",\n",
        "        model=\"gemini-2.0-flash\",\n",
        "        # Inserir as instruções do Agente Coletor #################################################\n",
        "        instruction=\"\"\"\n",
        "          Você é um coletor de dados, especialista em requisitos necessários para obter a cidadania italiana \\\"ius sanguinis\\\".\n",
        "          Com base nas informações pesquisadas pelo buscador (resultado_pesquisa), você deverá formular apenas as perguntas necessárias à obtenção da cidadania e listar todas elas em 3 tópicos: sobre o requerente, sobre o ascendente e sobre a documentação.\n",
        "          Nao precisa pedir informacoes que nao sejam relevantes, como nombe, ou dados pessoais (PII) que nao influeciem na obtencao de cidadania.\n",
        "          Forneça um exemplo de um parágrafo para que o usuário responda as perguntas de cada categoria de forma sucinta.\n",
        "          Sempre pergunte se a pessoa ja entreou com um processo judicial ou no consulado e em qual data.\n",
        "        \"\"\",\n",
        "        description=\"Agente que coleta dados\",\n",
        "    )\n",
        "\n",
        "    entrada_do_agente_coletor = f\"Resultados da pesquisa: {resultado_pesquisa}\"\n",
        "    # Executa o agente\n",
        "    coleta_de_dados = call_agent(coletor, entrada_do_agente_coletor)\n",
        "    return coleta_de_dados"
      ],
      "metadata": {
        "id": "y3VO1uo5_ghO"
      },
      "execution_count": null,
      "outputs": []
    },
    {
      "cell_type": "code",
      "source": [
        "######################################\n",
        "# --- Agente 3: Analista de Dados --- #\n",
        "######################################\n",
        "def agente_analista(resultado_pesquisa, coleta_de_dados, resposta_requerente):\n",
        "    analista = Agent(\n",
        "        name=\"agente_analista\",\n",
        "        model=\"gemini-2.0-flash\",\n",
        "        instruction=\"\"\"\n",
        "            Você é um Analista de dados especializado em analisar dados e cruzar informações.\n",
        "            Você irá analisar o resultado da pesquisa (agente_pesquisador), as perguntas (agente_coletor) e as respostas (resposta_requerente) fornecidas e com base nestas informações, você irá analisar se a pessoa tem direito à cidadania italiana \\\"ius sanguinis\\\" ou não.\n",
        "            Depois de analisar, você deverá informar ao usuário se ele tem direito ou não e quais os motivos. Por favor, listar as fontes para que o usuário possa verificar.\n",
        "            \"\"\",\n",
        "        description=\"Agente analista de dados\",\n",
        "    )\n",
        "    entrada_do_agente_analista = f\"contexto: {resultado_pesquisa}, {coleta_de_dados}, {resposta_requerente}\"\n",
        "    # Executa o agente\n",
        "    analise = call_agent(analista, entrada_do_agente_analista)\n",
        "    return analise"
      ],
      "metadata": {
        "id": "uOqlg2TRLVh1"
      },
      "execution_count": null,
      "outputs": []
    },
    {
      "cell_type": "code",
      "source": [
        "##########################################\n",
        "# --- Agente 4: Agente advogado --- #\n",
        "##########################################\n",
        "def agente_advogado(resultado_da_analise):\n",
        "    advogado = Agent(\n",
        "        name=\"agente_advogado\",\n",
        "        model=\"gemini-2.0-flash\",\n",
        "        instruction=\"\"\"\n",
        "            Você é um agente advogado consultor. Você irá analisar (resultado_da_analise).\n",
        "            Caso a resposta seja positiva, aconselhe o usuário com base no (google_search) sobre os próximos passos que ele deverá tomar para requisitar a cidadania.\n",
        "            Caso a resposta seja negativa, analise se há alguma alternativa ou algo que o usuário possa fazer a respeito através do (google_search) e aconselhe quais medidas ele poderá tomar, se tiver alguma.\n",
        "            Seja sempre cordial com os usuários.\n",
        "            \"\"\",\n",
        "        description=\"Agente Advogado.\",\n",
        "        tools=[google_search]\n",
        "    )\n",
        "    entrada_do_agente_advogado = f\"contexto: {resultado_da_analise}\"\n",
        "    # Executa o agente\n",
        "    conselho_advogado = call_agent(advogado, entrada_do_agente_advogado)\n",
        "    return conselho_advogado"
      ],
      "metadata": {
        "id": "_aTb1SdkLeT6"
      },
      "execution_count": null,
      "outputs": []
    },
    {
      "cell_type": "code",
      "source": [
        "data_de_hoje = date.today().strftime(\"%d/%m/%Y\")\n",
        "\n",
        "print(\"🍄 As mudanças na legislação italiana estão trazendo muita confusão. \\nVocê é brasileiro e quer descobrir se tem direito à cidadania italiana? Preencha as informações e descubra com nossos agentes 🍄\")\n",
        "\n",
        "# --- Obter o Tópico do Usuário ---\n",
        "# topico = input(\"Por favor, digite o TÓPICO sobre o qual você quer criar o post de tendências: \")\n",
        "\n",
        "# Inserir lógica do sistema de agentes ################################################\n",
        "# if not topico:\n",
        "#    print(\"Você esqueceu de digitar o tópico!\")\n",
        "# else:\n",
        "#    print(f\"Maravilha! Vamos então criar o post sobre novidades em {topico}\")\n",
        "\n",
        "resultado_pesquisa = agente_pesquisador(data_de_hoje)\n",
        "# print(\"\\n--- 📝 Resultado do Agente 1 (Buscador) ---\\n\")\n",
        "# display(to_markdown(resultado_pesquisa))\n",
        "print(\"------------------------------------------------------------------------------------------------------------------------------------------------------------------------------------------\")\n",
        "\n",
        "coleta_de_dados = agente_coletor(resultado_pesquisa)\n",
        "print(\"\\n--- 📝🍄 Nosso agente fantasma de pesquisa coletou os dados mais recentes sobre o direito à cidadania. \\nAgora o nosso agente de coleta de dados, Luigi, irá fazer algumas perguntas para podermos analisar o seu caso. 🍄 ---\\n\")\n",
        "display(to_markdown(coleta_de_dados))\n",
        "resposta_requerente = input(\"Por favor, escreva de forma resumida todas as informacoes: \")\n",
        "#resposta_ascendente = input(\"Por favor, escreve as informações sobre o ascendente nesta caixa de forma resumida: \")\n",
        "#resposta_documentos = input(\"Por favor, escreve as informações sobre os documentos nesta caixa de forma resumida: \")\n",
        "if not (resposta_requerente):\n",
        "  print(\"🍄 Agente Luigi (coletor de dados): Você esqueceu de responder as perguntas!🍄\")\n",
        "else:\n",
        "  print(f\"🍄 Agente Luigi (coletor de dados): Maravilha! Vamos analisar suas respostas 🍄\")\n",
        "print(\"--------------------------------------------------------------\")\n",
        "\n",
        "resultado_da_analise = agente_analista(resultado_pesquisa, coleta_de_dados, resposta_requerente)\n",
        "print(\"\\n--- 📝🍄 Agente Mario (analista): Obrigado pelo envio das informações! Aqui está a nossa análise: 🍄 ---\\n\")\n",
        "display(to_markdown(resultado_da_analise))\n",
        "print(\"--------------------------------------------------------------\")\n",
        "\n",
        "conselho_advogado = agente_advogado(resultado_da_analise)\n",
        "print(\"\\n--- 📝🍄 Agente Cogumelo (advogado consultor): Dei uma olhada na sua análise e aqui tem algumas dicas para ajudar você no seu processo de cidadania 🍄---\\n\")\n",
        "display(to_markdown(conselho_advogado))\n",
        "print(\"--------------------------------------------------------------\")\n",
        "print(\"🍄 DISCLAMER: As informações apresentadas neste conteúdo têm caráter exclusivamente informativo. O \\\"advogado consultor\\\" mencionado é um personagem fictício, \\ncriado como uma forma de brincadeira para este projeto, e não representa um profissional real. Portanto, não substitui a orientação de um advogado devidamente habilitado. \\nAntes de tomar qualquer decisão com base neste ou em qualquer outro material, recomenda-se a consulta com um profissional qualificado e legalmente registrado na respectiva área jurídica.\")\n",
        "print(\"--------------------------------------------------------------\")"
      ],
      "metadata": {
        "colab": {
          "base_uri": "https://localhost:8080/",
          "height": 1000
        },
        "id": "6xzI6LKzxxnN",
        "outputId": "b31400a4-600a-4a88-f6e2-e66fadc496d8"
      },
      "execution_count": null,
      "outputs": [
        {
          "output_type": "stream",
          "name": "stdout",
          "text": [
            "🍄 As mudanças na legislação italiana estão trazendo muita confusão. \n",
            "Você é brasileiro e quer descobrir se tem direito à cidadania italiana? Preencha as informações e descubra com nossos agentes 🍄\n",
            "------------------------------------------------------------------------------------------------------------------------------------------------------------------------------------------\n",
            "\n",
            "--- 📝🍄 Nosso agente fantasma de pesquisa coletou os dados mais recentes sobre o direito à cidadania. \n",
            "Agora o nosso agente de coleta de dados, Luigi, irá fazer algumas perguntas para podermos analisar o seu caso. 🍄 ---\n",
            "\n"
          ]
        },
        {
          "output_type": "display_data",
          "data": {
            "text/plain": [
              "<IPython.core.display.Markdown object>"
            ],
            "text/markdown": "> Para dar início à análise do seu caso de cidadania italiana *ius sanguinis*, preciso coletar algumas informações essenciais. Por favor, responda às perguntas abaixo da forma mais completa e precisa possível.\n> \n> **Exemplo de resposta:**\n> \n> *   **Pergunta:** Qual o comune de nascimento do seu antenato italiano?\n> *   **Resposta:** Meu antenato italiano nasceu no comune de Vittorio Veneto, na província de Treviso.\n> \n> **Tópicos de Perguntas:**\n> \n> **1. Sobre o Requerente:**\n> \n> *   Já iniciou algum processo de reconhecimento da cidadania italiana, seja judicialmente ou via consulado? Se sim, especifique o tipo de processo e a data de início.\n> *   Reside atualmente na Itália? Se sim, há quanto tempo e com qual permesso di soggiorno?\n> *   Possui outros cidadãos italianos na sua família (além do antenato que transmite a cidadania)?\n> *   Você possui conhecimento da língua italiana? Qual o seu nível de proficiência?\n> \n> **2. Sobre o Ascendente Italiano (Antenato):**\n> \n> *   Qual o *comune* de nascimento do seu antenato italiano?\n> *   Em que ano o seu antenato emigrou para o Brasil?\n> *   O seu antenato se naturalizou brasileiro? Se sim, em qual data? (Esta informação é crucial para verificar se a transmissão da cidadania foi interrompida).\n> *   O seu antenato italiano teve filhos antes ou depois de se naturalizar brasileiro?\n> *   Você possui a Certidão Negativa de Naturalização (CNN) do seu antenato?\n> \n> **3. Sobre a Documentação:**\n> \n> *   Você já possui todas as certidões de nascimento, casamento e óbito (se aplicável) de todos os descendentes na linha de ascendência italiana?\n> *   As certidões que você possui já foram traduzidas e apostiladas?\n> *   Você possui algum documento italiano do seu antenato (além da certidão de nascimento), como passaporte antigo, certificado de batismo, etc.?\n> *   Você possui comprovante de residência na Itália de algum dos seus ascendentes (se aplicável)?\n> \n> Ao responder estas perguntas, forneça o máximo de detalhes possível para que eu possa avaliar seu caso com precisão.\n> \n"
          },
          "metadata": {}
        },
        {
          "output_type": "stream",
          "name": "stdout",
          "text": [
            "Por favor, escreva de forma resumida todas as informacoes: Meu nome é Nicole, data de nascimento 26/11/1996, meu trisavô era italiano, eu resido no Brasil, não possuo conhecimento da língua italiana  nunca solicitei a cidadania antes,  Não resido na Itália. Não possuo outra cidadania. Não. nome do ascendente: costantino raso. nasceu em 1950 em salerno. ele não se naturalizou. ele é meu trisavÔ. Eu ja entrei com pedido judicial em setembro de 2024.\n",
            "🍄 Agente Luigi (coletor de dados): Maravilha! Vamos analisar suas respostas 🍄\n",
            "--------------------------------------------------------------\n",
            "\n",
            "--- 📝🍄 Agente Mario (analista): Obrigado pelo envio das informações! Aqui está a nossa análise: 🍄 ---\n",
            "\n"
          ]
        },
        {
          "output_type": "display_data",
          "data": {
            "text/plain": [
              "<IPython.core.display.Markdown object>"
            ],
            "text/markdown": "> Com base nas informações fornecidas e nas recentes mudanças legislativas na Itália, farei uma análise do seu caso para determinar suas chances de obter a cidadania italiana *ius sanguinis*.\n> \n> **Análise do Caso:**\n> \n> 1.  **Legislação Vigente:** As novas regras aprovadas pelo Senado italiano (e que ainda precisam ser aprovadas pela Câmara dos Deputados) trazem restrições significativas para a transmissão da cidadania *ius sanguinis*. O limite geracional e a necessidade de comprovar um vínculo cultural são pontos cruciais.\n> 2.  **Informações Pessoais:**\n> \n>     *   **Nome:** Nicole\n>     *   **Data de Nascimento:** 26/11/1996\n>     *   **Nacionalidade:** Brasileira\n>     *   **Residência:** Brasil\n>     *   **Conhecimento de Italiano:** Nenhum\n>     *   **Processo de Cidadania:** Ação judicial iniciada em setembro de 2024\n> 3.  **Ascendente Italiano (Costantino Raso):**\n> \n>     *   **Nome:** Costantino Raso (trisavô)\n>     *   **Ano de Nascimento:** 1950\n>     *   **Comune de Nascimento:** Salerno\n>     *   **Naturalização:** Não se naturalizou brasileiro\n> 4.  **Documentação:** Não foram fornecidos detalhes sobre a documentação, mas presumirei que você possui ou está providenciando as certidões necessárias.\n> \n> **Conclusão:**\n> \n> Considerando que seu trisavô não se naturalizou brasileiro e que você já entrou com um pedido judicial em setembro de 2024, seu caso ainda pode ser analisado sob as regras antigas, **se as regras antigas forem válidas até o julgamento final do seu caso**.\n> \n> **Recomendação:**\n> \n> 1.  **Acompanhamento Jurídico:** Dada a complexidade e as mudanças na legislação, é imprescindível manter contato próximo com seu advogado para monitorar o andamento do processo e ajustar a estratégia conforme necessário.\n> 2.  **Documentação:** Certifique-se de que toda a documentação esteja completa, correta e em conformidade com os requisitos legais.\n> \n> **Observações:**\n> \n> *   As informações fornecidas são baseadas nos dados que você apresentou e nas informações disponíveis até o momento.\n> *   A legislação italiana está sujeita a mudanças, e é fundamental acompanhar as atualizações.\n> *   A decisão final sobre a concessão da cidadania cabe às autoridades italianas competentes.\n> \n> **Fontes:**\n> \n> *   Notícias e artigos sobre as mudanças na lei de cidadania italiana *ius sanguinis*.\n> *   Legislação italiana relevante (Lei nº 91/1992 e suas alterações).\n> *   Informações consulares sobre cidadania italiana.\n"
          },
          "metadata": {}
        },
        {
          "output_type": "stream",
          "name": "stdout",
          "text": [
            "--------------------------------------------------------------\n",
            "\n",
            "--- 📝🍄 Agente Cogumelo (advogado consultor): Dei uma olhada na sua análise e aqui tem algumas dicas para ajudar você no seu processo de cidadania 🍄---\n",
            "\n"
          ]
        },
        {
          "output_type": "display_data",
          "data": {
            "text/plain": [
              "<IPython.core.display.Markdown object>"
            ],
            "text/markdown": "> Olá, Nicole!\n> \n> Muito obrigado por compartilhar os detalhes do seu caso. Analisei cuidadosamente as informações que você forneceu, levando em consideração as recentes mudanças legislativas na Itália e o fato de você já ter iniciado uma ação judicial em setembro de 2024.\n> \n> Com base na análise, e **se as regras antigas forem válidas até o julgamento final do seu caso**, suas chances de obter a cidadania italiana *ius sanguinis* ainda podem ser consideradas, uma vez que seu trisavô não se naturalizou brasileiro. No entanto, é crucial estar ciente das novas restrições e da necessidade de comprovar um vínculo cultural com a Itália, caso as novas regras entrem em vigor antes do julgamento final do seu caso.\n> \n> **Próximos Passos:**\n> \n> Considerando o cenário atual e as possíveis mudanças na legislação, recomendo que você siga os seguintes passos para aumentar suas chances de sucesso:\n> \n> 1.  **Mantenha contato próximo com seu advogado:** Dada a complexidade da situação, é fundamental que você mantenha uma comunicação constante com seu advogado. Ele poderá monitorar o andamento do processo, informá-la sobre quaisquer atualizações na legislação e ajustar a estratégia conforme necessário.\n> 2.  **Reúna e organize a documentação:** Certifique-se de que todos os documentos necessários estejam completos, corretos e em conformidade com os requisitos legais. Isso inclui certidões de nascimento, casamento e óbito de todos os seus ascendentes italianos, bem como outros documentos que possam comprovar sua descendência.\n> 3.  **Prepare-se para comprovar o vínculo cultural:** Caso as novas regras entrem em vigor, será necessário comprovar um vínculo cultural com a Itália. Isso pode incluir comprovantes de viagens à Itália, participação em eventos culturais italianos, estudos da língua italiana ou outras atividades que demonstrem seu interesse e conexão com a cultura italiana.\n> \n> Além disso, para complementar as informações sobre o processo de cidadania italiana, realizei algumas pesquisas adicionais que podem ser úteis:\n> \n> \n> Com base nas pesquisas realizadas:\n> \n> *   **Processo judicial:** A via judicial é geralmente utilizada quando há atrasos significativos nas filas de espera dos consulados italianos, que podem ultrapassar 10 anos em algumas localidades. O processo por via judicial para conseguir a cidadania italiana levava menos de um ano, mas, atualmente, a média chega a três anos de espera.\n> *   **Comprovação do vínculo cultural:** Caso as novas regras entrem em vigor, descendentes devem demonstrar ligação real com a Itália a cada 25 anos, por meio de voto em eleições italianas, renovação de passaporte ou carteira de identidade ou pagamento de taxas consulares ou impostos.\n> *   **Documentos necessários:** Os documentos necessários para a cidadania italiana são certidões de nascimento, casamento e óbito de todos os familiares da árvore genealógica até chegar no ascendente italiano, incluindo a certidão negativa de naturalização deste último.\n> \n> **Recomendações adicionais:**\n> \n> 1.  **Certidão Negativa de Naturalização:** É um dos documentos mais importantes para o reconhecimento da cidadania italiana. Emitida pelo Ministério da Justiça do Brasil, ela comprova que o antepassado italiano não se naturalizou brasileiro antes do nascimento de seus descendentes.\n> 2.  **Mantenha seu cadastro no AIRE atualizado:** É uma obrigação legal de todo cidadão italiano que reside fora da Itália por mais de 12 meses. Isso inclui endereço, estado civil (casamentos, divórcios) e nascimento de filhos. A atualização é essencial para acessar serviços consulares (como a emissão de passaporte) e exercer direitos, como o voto.\n> \n> Lembre-se de que a legislação italiana está sujeita a mudanças, e é fundamental acompanhar as atualizações. A decisão final sobre a concessão da cidadania cabe às autoridades italianas competentes.\n> \n> Espero que estas informações sejam úteis para você. Se tiver mais alguma dúvida, não hesite em perguntar.\n"
          },
          "metadata": {}
        },
        {
          "output_type": "stream",
          "name": "stdout",
          "text": [
            "--------------------------------------------------------------\n",
            "🍄 DISCLAMER: As informações apresentadas neste conteúdo têm caráter exclusivamente informativo. O \"advogado consultor\" mencionado é um personagem fictício, \n",
            "criado como uma forma de brincadeira para este projeto, e não representa um profissional real. Portanto, não substitui a orientação de um advogado devidamente habilitado. \n",
            "Antes de tomar qualquer decisão com base neste ou em qualquer outro material, recomenda-se a consulta com um profissional qualificado e legalmente registrado na respectiva área jurídica.\n",
            "--------------------------------------------------------------\n"
          ]
        }
      ]
    }
  ]
}